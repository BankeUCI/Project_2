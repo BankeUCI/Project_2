{
 "cells": [
  {
   "cell_type": "code",
   "execution_count": null,
   "id": "aa66118d",
   "metadata": {},
   "outputs": [],
   "source": [
    "import pandas as pd\n",
    "import matplotlib.pyplot as plt\n",
    "from sqlalchemy import create_engine"
   ]
  },
  {
   "cell_type": "markdown",
   "id": "8245d3f1",
   "metadata": {},
   "source": [
    "## Read cleaned up version of our CSV files"
   ]
  },
  {
   "cell_type": "markdown",
   "id": "2a5b8044",
   "metadata": {},
   "source": [
    "### Read Athletes"
   ]
  },
  {
   "cell_type": "code",
   "execution_count": null,
   "id": "5ecb8a7a",
   "metadata": {},
   "outputs": [],
   "source": [
    "athletes_path = \"../Output/athletes.csv\"\n",
    "athletes = pd.read_csv(athletes_path)\n",
    "athletes = athletes.drop(columns=['Unnamed: 0'])\n",
    "athletes"
   ]
  },
  {
   "cell_type": "markdown",
   "id": "2874cef2",
   "metadata": {},
   "source": [
    "### Read Coaches"
   ]
  },
  {
   "cell_type": "code",
   "execution_count": null,
   "id": "501165a1",
   "metadata": {},
   "outputs": [],
   "source": [
    "coaches_path = \"../Output/coaches.csv\"\n",
    "coaches = pd.read_csv(coaches_path)\n",
    "coaches = coaches.drop(columns=['Unnamed: 0'])\n",
    "coaches"
   ]
  },
  {
   "cell_type": "markdown",
   "id": "2ad175fb",
   "metadata": {},
   "source": [
    "### Read Medals"
   ]
  },
  {
   "cell_type": "code",
   "execution_count": null,
   "id": "e80402f9",
   "metadata": {},
   "outputs": [],
   "source": [
    "medals_path = \"../Output/medals.csv\"\n",
    "medals = pd.read_csv(medals_path)\n",
    "medals"
   ]
  },
  {
   "cell_type": "markdown",
   "id": "7544ed75",
   "metadata": {},
   "source": [
    "### Read Teams"
   ]
  },
  {
   "cell_type": "code",
   "execution_count": null,
   "id": "3fe6f2db",
   "metadata": {},
   "outputs": [],
   "source": [
    "teams_path = \"../Output/teams.csv\"\n",
    "teams = pd.read_csv(teams_path)\n",
    "teams = teams.drop(columns=['Unnamed: 0'])\n",
    "teams"
   ]
  },
  {
   "cell_type": "markdown",
   "id": "402c4cdc",
   "metadata": {},
   "source": [
    "### Connect to Local Database"
   ]
  },
  {
   "cell_type": "code",
   "execution_count": null,
   "id": "c73c18ce",
   "metadata": {},
   "outputs": [],
   "source": [
    "rds_connection_string = \"postgres:postgres@localhost:5432/Tokyo_Olympic\"\n",
    "engine = create_engine(f'postgresql://{rds_connection_string}')"
   ]
  },
  {
   "cell_type": "markdown",
   "id": "1a06bdb1",
   "metadata": {},
   "source": [
    "### Load Athletes Table"
   ]
  },
  {
   "cell_type": "code",
   "execution_count": null,
   "id": "380384f9",
   "metadata": {},
   "outputs": [],
   "source": [
    "athletes.to_sql(name='athlete', con=engine, if_exists='append', index=False)"
   ]
  },
  {
   "cell_type": "markdown",
   "id": "45e48853",
   "metadata": {},
   "source": [
    "### Load Coaches Table"
   ]
  },
  {
   "cell_type": "code",
   "execution_count": null,
   "id": "35083a73",
   "metadata": {},
   "outputs": [],
   "source": [
    "coaches.to_sql(name='coaches', con=engine, if_exists='append', index=False)"
   ]
  },
  {
   "cell_type": "markdown",
   "id": "6096d017",
   "metadata": {},
   "source": [
    "### Load Medals Table"
   ]
  },
  {
   "cell_type": "code",
   "execution_count": null,
   "id": "5d8c0cb5",
   "metadata": {},
   "outputs": [],
   "source": [
    "medals.to_sql(name='medals', con=engine, if_exists='append', index=False)"
   ]
  },
  {
   "cell_type": "markdown",
   "id": "9cadfb99",
   "metadata": {},
   "source": [
    "### Load Teams Table"
   ]
  },
  {
   "cell_type": "code",
   "execution_count": null,
   "id": "9f978c81",
   "metadata": {},
   "outputs": [],
   "source": [
    "teams.to_sql(name='teams', con=engine, if_exists='append', index=False)"
   ]
  }
 ],
 "metadata": {
  "kernelspec": {
   "display_name": "Python 3",
   "language": "python",
   "name": "python3"
  },
  "language_info": {
   "codemirror_mode": {
    "name": "ipython",
    "version": 3
   },
   "file_extension": ".py",
   "mimetype": "text/x-python",
   "name": "python",
   "nbconvert_exporter": "python",
   "pygments_lexer": "ipython3",
   "version": "3.8.8"
  }
 },
 "nbformat": 4,
 "nbformat_minor": 5
}
